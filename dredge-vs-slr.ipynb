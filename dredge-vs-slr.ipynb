{
 "cells": [
  {
   "cell_type": "markdown",
   "metadata": {},
   "source": [
    "# Can we dredge away the sea-level rise\n",
    "This is a back-of-the-envelope calculation based on a question I got. The question was: Can we dredge the ocean to componsate for sea-level rise? Here we try to answer this question. We'll answer the question in the  following steps\n",
    "\n",
    "- Sea-level rise -> volume of water\n",
    "- Volume sea-level -> to volume of sand\n",
    "- Volume of sand -> cost\n",
    "- Cost -> cost per year\n",
    "- Cost per year -> % per GDP\n",
    "\n",
    "To answer the question we need to make some assumptions. Let's start with those. But before we do, we need to import some libraries.  "
   ]
  },
  {
   "cell_type": "code",
   "execution_count": 1,
   "metadata": {},
   "outputs": [],
   "source": [
    "# library for working with units\n",
    "import pint\n",
    "\n",
    "# load some default units\n",
    "ureg = pint.UnitRegistry()\n",
    "\n",
    "ureg.define('EUR = [currency]')\n",
    "ureg.define('USD = 0.88 * EUR')"
   ]
  },
  {
   "cell_type": "code",
   "execution_count": 2,
   "metadata": {},
   "outputs": [],
   "source": [
    "# how big is the earth's ocean surface (src: http://www.physicalgeography.net/fundamentals/8o.html)\n",
    "earth_ocean_surface  = 361132000 * ureg.kilometer**2\n",
    "earth_land_surface  = 148940000 * ureg.kilometer**2\n",
    "# how much sea level do want to compensate (src: just a number, somewhere in the order of SSP5-8.5)\n",
    "sea_level_rise = 1 * ureg.meter / ureg.century\n",
    "# rough estimate how much it costs to dredge 1m3. If you dredge more it will be cheaper\n",
    "cost_to_dredge  = 3 * ureg.EUR / ureg.meter**3\n",
    "\n",
    "# global gross domestic product: https://www.statista.com/statistics/268750/global-gross-domestic-product-gdp/\n",
    "global_gdp = 93863.85 * 1000000000 * ureg.USD / ureg.year\n",
    "\n",
    "# just a random source: https://blog.ucsusa.org/guest-commentary/what-is-the-cost-of-one-meter-of-sea-level-rise/ \n",
    "# of the cost to do nothing\n",
    "cost_of_consequences = 1000000000000 * ureg.USD / ureg.year\n"
   ]
  },
  {
   "cell_type": "markdown",
   "metadata": {},
   "source": [
    "## Sea level to volume\n",
    "The first step is to go from sea-level rise to volume. "
   ]
  },
  {
   "cell_type": "code",
   "execution_count": 3,
   "metadata": {},
   "outputs": [],
   "source": [
    "sea_level_volume = (sea_level_rise * earth_ocean_surface)\n"
   ]
  },
  {
   "cell_type": "code",
   "execution_count": 4,
   "metadata": {},
   "outputs": [
    {
     "data": {
      "text/html": [
       "\\[361132.0\\ kilometer^3/century\\]"
      ],
      "text/latex": [
       "$361132.0\\ \\frac{\\mathrm{kilometer}^{3}}{\\mathrm{century}}$"
      ],
      "text/plain": [
       "361132.0 <Unit('kilometer ** 3 / century')>"
      ]
     },
     "execution_count": 4,
     "metadata": {},
     "output_type": "execute_result"
    }
   ],
   "source": [
    "sea_level_volume.to_reduced_units()"
   ]
  },
  {
   "cell_type": "markdown",
   "metadata": {},
   "source": [
    "## Volume of sand\n",
    "The second step is to compute the volume of sand that we need to remove. We can remove the same ammount of wet sand below sea-level to lower the sea level. But we can also use this sand to raise the land. So for each meter of sand you can raise (ocean area / land area, which also reduces sea level). So we only have to do 40% of the work. You can even assume that you will only raise the areas where earth is below 1m sea-level. Then you need even less. This is referred to as relative sea-level rise. "
   ]
  },
  {
   "cell_type": "code",
   "execution_count": 5,
   "metadata": {},
   "outputs": [
    {
     "data": {
      "text/html": [
       "\\[148940.0\\ kilometer^3/century\\]"
      ],
      "text/latex": [
       "$148940.0\\ \\frac{\\mathrm{kilometer}^{3}}{\\mathrm{century}}$"
      ],
      "text/plain": [
       "148940.0 <Unit('kilometer ** 3 / century')>"
      ]
     },
     "execution_count": 5,
     "metadata": {},
     "output_type": "execute_result"
    }
   ],
   "source": [
    "sand_volume = sea_level_volume * (earth_land_surface / earth_ocean_surface)\n",
    "sand_volume.to_reduced_units()\n"
   ]
  },
  {
   "cell_type": "markdown",
   "metadata": {},
   "source": [
    "## Volume of sand to cost\n",
    "Dredging up this amount of sand costs money. Let's multiply it with the cost to dredge sand. And dump it near the shore. "
   ]
  },
  {
   "cell_type": "code",
   "execution_count": 6,
   "metadata": {},
   "outputs": [
    {
     "data": {
      "text/html": [
       "\\[446820000000000.0\\ EUR/century\\]"
      ],
      "text/latex": [
       "$446820000000000.0\\ \\frac{\\mathrm{EUR}}{\\mathrm{century}}$"
      ],
      "text/plain": [
       "446820000000000.0 <Unit('EUR / century')>"
      ]
     },
     "execution_count": 6,
     "metadata": {},
     "output_type": "execute_result"
    }
   ],
   "source": [
    "cost = sand_volume * cost_to_dredge\n",
    "cost.to_reduced_units()"
   ]
  },
  {
   "cell_type": "markdown",
   "metadata": {},
   "source": [
    "## Cost per century to cost per year\n",
    "We want to know the costs per year so that we can compare it with our annual income. \n"
   ]
  },
  {
   "cell_type": "code",
   "execution_count": 7,
   "metadata": {},
   "outputs": [
    {
     "data": {
      "text/html": [
       "\\[4468200000000.0\\ EUR/year\\]"
      ],
      "text/latex": [
       "$4468200000000.0\\ \\frac{\\mathrm{EUR}}{\\mathrm{year}}$"
      ],
      "text/plain": [
       "4468200000000.0 <Unit('EUR / year')>"
      ]
     },
     "execution_count": 7,
     "metadata": {},
     "output_type": "execute_result"
    }
   ],
   "source": [
    "cost.to(ureg.EUR / ureg.year)"
   ]
  },
  {
   "cell_type": "markdown",
   "metadata": {},
   "source": [
    "## Cost relative to GDP\n",
    "We can compare this cost to how much we (as the world) make each here. Of course this assumes that all countries will chip in, which might be optimistic. "
   ]
  },
  {
   "cell_type": "code",
   "execution_count": 8,
   "metadata": {},
   "outputs": [
    {
     "name": "stdout",
     "output_type": "stream",
     "text": [
      "The cost to dredge the ocean to compensate for sea-level rise is 5% relative to gdp\n"
     ]
    }
   ],
   "source": [
    "relative_gdp_cost = (cost / global_gdp).to_reduced_units()\n",
    "print(f\"The cost to dredge the ocean to compensate for sea-level rise is {(relative_gdp_cost.m * 100):.0f}% relative to gdp\")\n"
   ]
  },
  {
   "cell_type": "markdown",
   "metadata": {},
   "source": [
    "## Cost relative to doing nothing\n",
    "Here we compare the cost of dredging the ocean is cheaper than not doing anything and dealing with damages of sea-level rise. "
   ]
  },
  {
   "cell_type": "code",
   "execution_count": 12,
   "metadata": {},
   "outputs": [
    {
     "name": "stdout",
     "output_type": "stream",
     "text": [
      "The cost to dredge the ocean to compensate for sea-level rise is 508% relative to gdp\n"
     ]
    }
   ],
   "source": [
    "relative_to_nothing = (cost / cost_of_consequences).to_reduced_units()\n",
    "print(f\"The cost to dredge the ocean to compensate for sea-level rise is {(relative_to_nothing.m * 100):.0f}% relative to gdp\")\n",
    "\n"
   ]
  },
  {
   "cell_type": "markdown",
   "metadata": {},
   "source": [
    "## Conclusion\n",
    "To dredge against sea-level rise, a rough estimate is that it takes about 5% of our GDP. The cost of dredging is more than 500% more expensive than doing nothing based on an unsubstantiated estimate of the cost of doing nothing.  \n",
    "\n"
   ]
  }
 ],
 "metadata": {
  "kernelspec": {
   "display_name": "Python 3",
   "language": "python",
   "name": "python3"
  },
  "language_info": {
   "codemirror_mode": {
    "name": "ipython",
    "version": 3
   },
   "file_extension": ".py",
   "mimetype": "text/x-python",
   "name": "python",
   "nbconvert_exporter": "python",
   "pygments_lexer": "ipython3",
   "version": "3.8.8"
  }
 },
 "nbformat": 4,
 "nbformat_minor": 4
}
